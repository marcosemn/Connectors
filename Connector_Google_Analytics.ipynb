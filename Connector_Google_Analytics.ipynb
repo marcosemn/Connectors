{
  "nbformat": 4,
  "nbformat_minor": 0,
  "metadata": {
    "colab": {
      "name": "Connector Google Analytics.ipynb",
      "provenance": [],
      "collapsed_sections": []
    },
    "kernelspec": {
      "name": "python3",
      "display_name": "Python 3"
    },
    "language_info": {
      "name": "python"
    }
  },
  "cells": [
    {
      "cell_type": "code",
      "metadata": {
        "id": "GKGxQExvTON8"
      },
      "source": [
        "!pip install --upgrade google-api-python-client"
      ],
      "execution_count": null,
      "outputs": []
    },
    {
      "cell_type": "markdown",
      "metadata": {
        "id": "bAiqGrtY1eUt"
      },
      "source": [
        "https://ga-dev-tools.appspot.com/dimensions-metrics-explorer/?"
      ]
    },
    {
      "cell_type": "code",
      "metadata": {
        "id": "LQVrRzH4JUVZ"
      },
      "source": [
        "import pandas as pd\n",
        "from apiclient.discovery import build\n",
        "from oauth2client.service_account import ServiceAccountCredentials\n",
        "import seaborn as sns\n",
        "from datetime import datetime\n",
        "import pytz\n",
        "import matplotlib.pyplot as plt"
      ],
      "execution_count": null,
      "outputs": []
    },
    {
      "cell_type": "code",
      "metadata": {
        "id": "LGaqWktRO5UJ"
      },
      "source": [
        "# setup\n",
        "SCOPES = ['https://www.googleapis.com/auth/analytics.readonly']\n",
        "KEY_FILE_LOCATION = 'client_secrets.json'\n",
        "VIEW_ID = '160782043' # coloque aqui o TableID do Analytics\n",
        " \n",
        "def initialize_analyticsreporting():\n",
        "    credentials = ServiceAccountCredentials.from_json_keyfile_name(KEY_FILE_LOCATION, SCOPES)\n",
        "    analytics = build('analyticsreporting', 'v4', credentials=credentials)\n",
        "    return analytics\n",
        "\n",
        "def response2df(response):\n",
        "    report = response.get('reports', [])[0] # expected just one report\n",
        "    # headers\n",
        "    header_dimensions = report.get('columnHeader', {}).get('dimensions', [])\n",
        "    header_metrics = [value['name'] for value in report.get('columnHeader', {}).get('metricHeader', {}).get('metricHeaderEntries', [])]\n",
        "    headers = header_dimensions + header_metrics\n",
        "    headers = list(map((lambda x: x.split(':', 1)[-1]), headers)) # removes \"ga:\" from each column\n",
        "    # values\n",
        "    values = []\n",
        "    rows = report.get('data', {}).get('rows', [])\n",
        "    for row in rows:\n",
        "        values_dimensions = row.get('dimensions', [])\n",
        "        values_metrics = row.get('metrics', [])[0].get('values', [])\n",
        "        values.append(values_dimensions + values_metrics)\n",
        "    # to dataframe\n",
        "    df = pd.DataFrame(columns=headers, data=values)\n",
        "    return df"
      ],
      "execution_count": null,
      "outputs": []
    },
    {
      "cell_type": "code",
      "metadata": {
        "colab": {
          "base_uri": "https://localhost:8080/",
          "height": 309
        },
        "id": "pgt1cb6ZTInJ",
        "outputId": "49435a9e-1be6-4ef7-d45d-85da4b350f33"
      },
      "source": [
        "def get_report(analytics):\n",
        "    return analytics.reports().batchGet(body={'reportRequests': [{\n",
        "        'viewId': VIEW_ID,\n",
        "        'dateRanges': [{'startDate': '2021-03-23', 'endDate': 'today'}],\n",
        "        'dimensions': [\n",
        "            {'name': 'ga:pagePath'},\n",
        "            {'name': 'ga:previousPagePath'},\n",
        "            {'name': 'ga:sourceMedium'},\n",
        "            {'name': 'ga:country'},\n",
        "            {'name': 'ga:city'},\n",
        "            {'name': 'ga:language'},\n",
        "            {'name': 'ga:secondPagePath'},\n",
        "            {'name': 'ga:daysSinceLastSession'},\n",
        "            {'name': 'ga:dataSource'}\n",
        "        ], 'metrics': [\n",
        "            {'expression': 'ga:pageviews'},\n",
        "            {'expression': 'ga:avgTimeOnPage'},\n",
        "            {'expression': 'ga:uniquePageviews'}\n",
        "        ], \n",
        "        'pageSize':10000\n",
        "    }]}).execute()\n",
        "\n",
        "analytics = initialize_analyticsreporting()\n",
        "response = get_report(analytics)\n",
        "df = response2df(response)\n",
        " \n",
        "df.head()"
      ],
      "execution_count": null,
      "outputs": [
        {
          "output_type": "execute_result",
          "data": {
            "text/html": [
              "<div>\n",
              "<style scoped>\n",
              "    .dataframe tbody tr th:only-of-type {\n",
              "        vertical-align: middle;\n",
              "    }\n",
              "\n",
              "    .dataframe tbody tr th {\n",
              "        vertical-align: top;\n",
              "    }\n",
              "\n",
              "    .dataframe thead th {\n",
              "        text-align: right;\n",
              "    }\n",
              "</style>\n",
              "<table border=\"1\" class=\"dataframe\">\n",
              "  <thead>\n",
              "    <tr style=\"text-align: right;\">\n",
              "      <th></th>\n",
              "      <th>pagePath</th>\n",
              "      <th>previousPagePath</th>\n",
              "      <th>sourceMedium</th>\n",
              "      <th>country</th>\n",
              "      <th>city</th>\n",
              "      <th>language</th>\n",
              "      <th>secondPagePath</th>\n",
              "      <th>daysSinceLastSession</th>\n",
              "      <th>dataSource</th>\n",
              "      <th>pageviews</th>\n",
              "      <th>avgTimeOnPage</th>\n",
              "      <th>uniquePageviews</th>\n",
              "    </tr>\n",
              "  </thead>\n",
              "  <tbody>\n",
              "    <tr>\n",
              "      <th>0</th>\n",
              "      <td>/</td>\n",
              "      <td>(entrance)</td>\n",
              "      <td>(direct) / (none)</td>\n",
              "      <td>Albania</td>\n",
              "      <td>(not set)</td>\n",
              "      <td>en-us</td>\n",
              "      <td>(not set)</td>\n",
              "      <td>0</td>\n",
              "      <td>web</td>\n",
              "      <td>1</td>\n",
              "      <td>0.0</td>\n",
              "      <td>1</td>\n",
              "    </tr>\n",
              "    <tr>\n",
              "      <th>1</th>\n",
              "      <td>/</td>\n",
              "      <td>(entrance)</td>\n",
              "      <td>(direct) / (none)</td>\n",
              "      <td>Brazil</td>\n",
              "      <td>(not set)</td>\n",
              "      <td>en-us</td>\n",
              "      <td>(not set)</td>\n",
              "      <td>0</td>\n",
              "      <td>web</td>\n",
              "      <td>1</td>\n",
              "      <td>0.0</td>\n",
              "      <td>1</td>\n",
              "    </tr>\n",
              "    <tr>\n",
              "      <th>2</th>\n",
              "      <td>/</td>\n",
              "      <td>(entrance)</td>\n",
              "      <td>(direct) / (none)</td>\n",
              "      <td>Brazil</td>\n",
              "      <td>(not set)</td>\n",
              "      <td>pt-br</td>\n",
              "      <td>(not set)</td>\n",
              "      <td>0</td>\n",
              "      <td>web</td>\n",
              "      <td>3</td>\n",
              "      <td>0.0</td>\n",
              "      <td>3</td>\n",
              "    </tr>\n",
              "    <tr>\n",
              "      <th>3</th>\n",
              "      <td>/</td>\n",
              "      <td>(entrance)</td>\n",
              "      <td>(direct) / (none)</td>\n",
              "      <td>Brazil</td>\n",
              "      <td>(not set)</td>\n",
              "      <td>pt-br</td>\n",
              "      <td>/job/3716</td>\n",
              "      <td>0</td>\n",
              "      <td>web</td>\n",
              "      <td>1</td>\n",
              "      <td>161.0</td>\n",
              "      <td>1</td>\n",
              "    </tr>\n",
              "    <tr>\n",
              "      <th>4</th>\n",
              "      <td>/</td>\n",
              "      <td>(entrance)</td>\n",
              "      <td>(direct) / (none)</td>\n",
              "      <td>Brazil</td>\n",
              "      <td>Apucarana</td>\n",
              "      <td>pt-br</td>\n",
              "      <td>(not set)</td>\n",
              "      <td>1</td>\n",
              "      <td>web</td>\n",
              "      <td>1</td>\n",
              "      <td>0.0</td>\n",
              "      <td>1</td>\n",
              "    </tr>\n",
              "  </tbody>\n",
              "</table>\n",
              "</div>"
            ],
            "text/plain": [
              "  pagePath previousPagePath  ... avgTimeOnPage uniquePageviews\n",
              "0        /       (entrance)  ...           0.0               1\n",
              "1        /       (entrance)  ...           0.0               1\n",
              "2        /       (entrance)  ...           0.0               3\n",
              "3        /       (entrance)  ...         161.0               1\n",
              "4        /       (entrance)  ...           0.0               1\n",
              "\n",
              "[5 rows x 12 columns]"
            ]
          },
          "metadata": {
            "tags": []
          },
          "execution_count": 75
        }
      ]
    }
  ]
}