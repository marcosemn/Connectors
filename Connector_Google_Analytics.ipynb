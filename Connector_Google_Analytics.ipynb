{
  "nbformat": 4,
  "nbformat_minor": 0,
  "metadata": {
    "colab": {
      "name": "Connector Google Analytics.ipynb",
      "provenance": [],
      "collapsed_sections": []
    },
    "kernelspec": {
      "name": "python3",
      "display_name": "Python 3"
    },
    "language_info": {
      "name": "python"
    }
  },
  "cells": [
    {
      "cell_type": "code",
      "metadata": {
        "id": "GKGxQExvTON8"
      },
      "source": [
        "!pip install --upgrade google-api-python-client"
      ],
      "execution_count": null,
      "outputs": []
    },
    {
      "cell_type": "markdown",
      "metadata": {
        "id": "bAiqGrtY1eUt"
      },
      "source": [
        "https://ga-dev-tools.appspot.com/dimensions-metrics-explorer/?"
      ]
    },
    {
      "cell_type": "code",
      "metadata": {
        "id": "617jZEQA8OJZ"
      },
      "source": [
        ""
      ],
      "execution_count": null,
      "outputs": []
    },
    {
      "cell_type": "code",
      "metadata": {
        "id": "LQVrRzH4JUVZ"
      },
      "source": [
        "import pandas as pd\n",
        "from apiclient.discovery import build\n",
        "from oauth2client.service_account import ServiceAccountCredentials\n",
        "import seaborn as sns\n",
        "from datetime import datetime\n",
        "import pytz\n",
        "import matplotlib.pyplot as plt"
      ],
      "execution_count": 1,
      "outputs": []
    },
    {
      "cell_type": "code",
      "metadata": {
        "id": "LGaqWktRO5UJ"
      },
      "source": [
        "# setup\n",
        "SCOPES = ['https://www.googleapis.com/auth/analytics.readonly']\n",
        "KEY_FILE_LOCATION = 'client_secrets.json'\n",
        "VIEW_ID = 'Analytics TableID '\n",
        " \n",
        "def initialize_analyticsreporting():\n",
        "    credentials = ServiceAccountCredentials.from_json_keyfile_name(KEY_FILE_LOCATION, SCOPES)\n",
        "    analytics = build('analyticsreporting', 'v4', credentials=credentials)\n",
        "    return analytics\n",
        "\n",
        "def response2df(response):\n",
        "    report = response.get('reports', [])[0] # expected just one report\n",
        "    # headers\n",
        "    header_dimensions = report.get('columnHeader', {}).get('dimensions', [])\n",
        "    header_metrics = [value['name'] for value in report.get('columnHeader', {}).get('metricHeader', {}).get('metricHeaderEntries', [])]\n",
        "    headers = header_dimensions + header_metrics\n",
        "    headers = list(map((lambda x: x.split(':', 1)[-1]), headers)) # removes \"ga:\" from each column\n",
        "    # values\n",
        "    values = []\n",
        "    rows = report.get('data', {}).get('rows', [])\n",
        "    for row in rows:\n",
        "        values_dimensions = row.get('dimensions', [])\n",
        "        values_metrics = row.get('metrics', [])[0].get('values', [])\n",
        "        values.append(values_dimensions + values_metrics)\n",
        "    # to dataframe\n",
        "    df = pd.DataFrame(columns=headers, data=values)\n",
        "    return df"
      ],
      "execution_count": 6,
      "outputs": []
    },
    {
      "cell_type": "code",
      "metadata": {
        "id": "pgt1cb6ZTInJ"
      },
      "source": [
        "def get_report(analytics):\n",
        "    return analytics.reports().batchGet(body={'reportRequests': [{\n",
        "        'viewId': VIEW_ID,\n",
        "        'dateRanges': [{'startDate': '180daysAgo', 'endDate': 'today'}],\n",
        "        'dimensions': [\n",
        "            {'name': 'ga:pagePath'},\n",
        "            {'name': 'ga:previousPagePath'},\n",
        "            {'name': 'ga:sourceMedium'},\n",
        "            {'name': 'ga:country'},\n",
        "            {'name': 'ga:city'},\n",
        "            {'name': 'ga:language'},\n",
        "            {'name': 'ga:secondPagePath'},\n",
        "            {'name': 'ga:daysSinceLastSession'},\n",
        "            {'name': 'ga:dataSource'}\n",
        "        ], 'metrics': [\n",
        "            {'expression': 'ga:pageviews'},\n",
        "            {'expression': 'ga:avgTimeOnPage'},\n",
        "            {'expression': 'ga:uniquePageviews'}\n",
        "        ], \n",
        "        'pageSize':10000\n",
        "    }]}).execute()\n",
        "\n",
        "analytics = initialize_analyticsreporting()\n",
        "response = get_report(analytics)\n",
        "df = response2df(response)"
      ],
      "execution_count": 7,
      "outputs": []
    }
  ]
}