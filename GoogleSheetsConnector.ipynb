{
  "nbformat": 4,
  "nbformat_minor": 0,
  "metadata": {
    "colab": {
      "name": "GoogleSheetsConnector",
      "provenance": []
    },
    "kernelspec": {
      "name": "python3",
      "display_name": "Python 3"
    }
  },
  "cells": [
    {
      "cell_type": "markdown",
      "metadata": {
        "id": "y39Gnncn_C9W"
      },
      "source": [
        "Reference for some previous steps you have to do: \r\n",
        "\r\n",
        "https://www.analyticsvidhya.com/blog/2020/07/read-and-update-google-spreadsheets-with-python/"
      ]
    },
    {
      "cell_type": "code",
      "metadata": {
        "id": "8Ae_fSWe-8Rg"
      },
      "source": [
        "!pip3 install gspread\r\n",
        "!pip3 install --upgrade google-api-python-client oauth2client"
      ],
      "execution_count": null,
      "outputs": []
    },
    {
      "cell_type": "code",
      "metadata": {
        "id": "DX3af9fW_RoG"
      },
      "source": [
        "scope = ['https://spreadsheets.google.com/feeds','https://www.googleapis.com/auth/drive']\r\n",
        "\r\n",
        "creds = ServiceAccountCredentials.from_json_keyfile_name('INSERT THE JSON WITH YOUR CREDENTIALS HERE', scope)\r\n",
        "\r\n",
        "client = gspread.authorize(creds)\r\n",
        "\r\n",
        "sheet = client.open('INSERT YOUR SHEET''S NAME HERE')\r\n",
        "\r\n",
        "sheet_instance = sheet.get_worksheet('INSERT YOUR WORKSHEET''S INDEX HERE')\r\n",
        "\r\n",
        "records_data = sheet_instance.get_all_records()\r\n",
        "\r\n",
        "records_df = pd.DataFrame.from_dict(records_data)\r\n",
        "\r\n",
        "records_df.head()"
      ],
      "execution_count": null,
      "outputs": []
    }
  ]
}