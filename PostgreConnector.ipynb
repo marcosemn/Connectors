{
  "nbformat": 4,
  "nbformat_minor": 0,
  "metadata": {
    "colab": {
      "name": "PostgreConnector",
      "provenance": []
    },
    "kernelspec": {
      "name": "python3",
      "display_name": "Python 3"
    }
  },
  "cells": [
    {
      "cell_type": "markdown",
      "metadata": {
        "id": "tVrEtaCe-JX-"
      },
      "source": [
        "Documentation: https://www.psycopg.org/docs/index.html"
      ]
    },
    {
      "cell_type": "code",
      "metadata": {
        "id": "meVJG-0m8s9r"
      },
      "source": [
        "pip install psycopg2-binary"
      ],
      "execution_count": null,
      "outputs": []
    },
    {
      "cell_type": "code",
      "metadata": {
        "id": "7Arvxrhc9Wdj"
      },
      "source": [
        "import psycopg2"
      ],
      "execution_count": null,
      "outputs": []
    },
    {
      "cell_type": "code",
      "metadata": {
        "id": "Ng9SBm9P9Yyx"
      },
      "source": [
        "conn = psycopg2.connect(\r\n",
        "    host=\"INSERT YOUR HOST NUMBER HERE\",\r\n",
        "    database=\"INSERT YOUR DATABASE NAME HERE\",\r\n",
        "    user=\"INSERT YOUR USER NAME HERE\",\r\n",
        "    password=\"INSERT YOUR PASSWORD HERE\")\r\n",
        "\r\n",
        "cur = conn.cursor()"
      ],
      "execution_count": null,
      "outputs": []
    },
    {
      "cell_type": "code",
      "metadata": {
        "id": "dW4dQPWi9c27"
      },
      "source": [
        "query = \"INSERT YOUR QUERY HERE\"\r\n",
        "cur.execute(query)\r\n",
        "records = cur.fetchall()\r\n",
        "\r\n",
        "df = pd.DataFrame(records)\r\n",
        "colnames = [desc[0] for desc in cur.description]\r\n",
        "for i in range(0,df.shape[1]):\r\n",
        "  df[colnames[i]] = df[i]\r\n",
        "  df.drop(columns=[i],inplace=True)\r\n",
        "\r\n",
        "df"
      ],
      "execution_count": null,
      "outputs": []
    }
  ]
}